{
 "cells": [
  {
   "cell_type": "code",
   "execution_count": 1,
   "metadata": {},
   "outputs": [],
   "source": [
    "%matplotlib inline\n",
    "import pandas as pd\n",
    "import numpy as np\n",
    "import matplotlib.pyplot as plt\n",
    "import seaborn as sns\n",
    "from tqdm import tqdm\n",
    "\n",
    "from descriptor_calculator import * # Module for molecular fingerprint & descriptor calculations\n",
    "from training import * # Module for model training and cross validation\n",
    "from hyperopt import opt_hyper_param # Module for hyperparameter optimization"
   ]
  },
  {
   "cell_type": "markdown",
   "metadata": {},
   "source": [
    "## Load data "
   ]
  },
  {
   "cell_type": "code",
   "execution_count": 2,
   "metadata": {},
   "outputs": [
    {
     "data": {
      "text/html": [
       "<div>\n",
       "<style scoped>\n",
       "    .dataframe tbody tr th:only-of-type {\n",
       "        vertical-align: middle;\n",
       "    }\n",
       "\n",
       "    .dataframe tbody tr th {\n",
       "        vertical-align: top;\n",
       "    }\n",
       "\n",
       "    .dataframe thead th {\n",
       "        text-align: right;\n",
       "    }\n",
       "</style>\n",
       "<table border=\"1\" class=\"dataframe\">\n",
       "  <thead>\n",
       "    <tr style=\"text-align: right;\">\n",
       "      <th></th>\n",
       "      <th>ID_Number</th>\n",
       "      <th>Canonical_Smiles</th>\n",
       "      <th>Round_Number</th>\n",
       "      <th>Max_LCAP</th>\n",
       "    </tr>\n",
       "  </thead>\n",
       "  <tbody>\n",
       "    <tr>\n",
       "      <th>0</th>\n",
       "      <td>4897720</td>\n",
       "      <td>CCCCn1ccnc1</td>\n",
       "      <td>0</td>\n",
       "      <td>0</td>\n",
       "    </tr>\n",
       "    <tr>\n",
       "      <th>1</th>\n",
       "      <td>18461035</td>\n",
       "      <td>CC(=O)c1ocnc1</td>\n",
       "      <td>0</td>\n",
       "      <td>72</td>\n",
       "    </tr>\n",
       "    <tr>\n",
       "      <th>2</th>\n",
       "      <td>1762470</td>\n",
       "      <td>Fc1ccc(cc1)c2ocnc2</td>\n",
       "      <td>0</td>\n",
       "      <td>87</td>\n",
       "    </tr>\n",
       "    <tr>\n",
       "      <th>3</th>\n",
       "      <td>16916940</td>\n",
       "      <td>Brc1ccc(cc1)c2cncs2</td>\n",
       "      <td>0</td>\n",
       "      <td>78</td>\n",
       "    </tr>\n",
       "    <tr>\n",
       "      <th>4</th>\n",
       "      <td>1040111</td>\n",
       "      <td>Fc1cc(ccc1[C@@H]2CCc3cncn23)C#N</td>\n",
       "      <td>0</td>\n",
       "      <td>0</td>\n",
       "    </tr>\n",
       "  </tbody>\n",
       "</table>\n",
       "</div>"
      ],
      "text/plain": [
       "   ID_Number                 Canonical_Smiles  Round_Number  Max_LCAP\n",
       "0    4897720                      CCCCn1ccnc1             0         0\n",
       "1   18461035                    CC(=O)c1ocnc1             0        72\n",
       "2    1762470               Fc1ccc(cc1)c2ocnc2             0        87\n",
       "3   16916940              Brc1ccc(cc1)c2cncs2             0        78\n",
       "4    1040111  Fc1cc(ccc1[C@@H]2CCc3cncn23)C#N             0         0"
      ]
     },
     "execution_count": 2,
     "metadata": {},
     "output_type": "execute_result"
    }
   ],
   "source": [
    "# Load and clean raw data\n",
    "df_raw = pd.read_csv('./data/data.csv')\n",
    "df = df_raw[df_raw['Max_LCAP'].notna()]\n",
    "df = df.reset_index()\n",
    "df = df.drop(columns=['index'])\n",
    "df['Round_Number'] = df['Round_Number'].apply(lambda x: int(str(x)[-1]))\n",
    "df.head()"
   ]
  },
  {
   "cell_type": "code",
   "execution_count": 3,
   "metadata": {},
   "outputs": [
    {
     "data": {
      "text/html": [
       "<div>\n",
       "<style scoped>\n",
       "    .dataframe tbody tr th:only-of-type {\n",
       "        vertical-align: middle;\n",
       "    }\n",
       "\n",
       "    .dataframe tbody tr th {\n",
       "        vertical-align: top;\n",
       "    }\n",
       "\n",
       "    .dataframe thead th {\n",
       "        text-align: right;\n",
       "    }\n",
       "</style>\n",
       "<table border=\"1\" class=\"dataframe\">\n",
       "  <thead>\n",
       "    <tr style=\"text-align: right;\">\n",
       "      <th></th>\n",
       "      <th>ID_Number</th>\n",
       "      <th>Canonical_Smiles</th>\n",
       "      <th>Round_Number</th>\n",
       "      <th>Max_LCAP</th>\n",
       "    </tr>\n",
       "  </thead>\n",
       "  <tbody>\n",
       "    <tr>\n",
       "      <th>0</th>\n",
       "      <td>4897720</td>\n",
       "      <td>CCCCn1ccnc1</td>\n",
       "      <td>0</td>\n",
       "      <td>0</td>\n",
       "    </tr>\n",
       "    <tr>\n",
       "      <th>1</th>\n",
       "      <td>18461035</td>\n",
       "      <td>CC(=O)c1ocnc1</td>\n",
       "      <td>0</td>\n",
       "      <td>72</td>\n",
       "    </tr>\n",
       "    <tr>\n",
       "      <th>2</th>\n",
       "      <td>1762470</td>\n",
       "      <td>Fc1ccc(cc1)c2ocnc2</td>\n",
       "      <td>0</td>\n",
       "      <td>87</td>\n",
       "    </tr>\n",
       "    <tr>\n",
       "      <th>3</th>\n",
       "      <td>16916940</td>\n",
       "      <td>Brc1ccc(cc1)c2cncs2</td>\n",
       "      <td>0</td>\n",
       "      <td>78</td>\n",
       "    </tr>\n",
       "    <tr>\n",
       "      <th>4</th>\n",
       "      <td>1040111</td>\n",
       "      <td>Fc1cc(ccc1[C@@H]2CCc3cncn23)C#N</td>\n",
       "      <td>0</td>\n",
       "      <td>0</td>\n",
       "    </tr>\n",
       "  </tbody>\n",
       "</table>\n",
       "</div>"
      ],
      "text/plain": [
       "   ID_Number                 Canonical_Smiles  Round_Number  Max_LCAP\n",
       "0    4897720                      CCCCn1ccnc1             0         0\n",
       "1   18461035                    CC(=O)c1ocnc1             0        72\n",
       "2    1762470               Fc1ccc(cc1)c2ocnc2             0        87\n",
       "3   16916940              Brc1ccc(cc1)c2cncs2             0        78\n",
       "4    1040111  Fc1cc(ccc1[C@@H]2CCc3cncn23)C#N             0         0"
      ]
     },
     "execution_count": 3,
     "metadata": {},
     "output_type": "execute_result"
    }
   ],
   "source": [
    "# Load and clean raw data\n",
    "df_raw = pd.read_csv('./data/data.csv')\n",
    "\n",
    "# Filter out rows without Max_LCAP values\n",
    "df = df_raw[df_raw['Max_LCAP'].notna()]\n",
    "df = df.reset_index(drop=True)\n",
    "\n",
    "# Extract the last digit from Round_Number and convert it to an integer\n",
    "df['Round_Number'] = df['Round_Number'].apply(lambda x: int(str(x)[-1]))\n",
    "df.head()"
   ]
  },
  {
   "cell_type": "code",
   "execution_count": 4,
   "metadata": {},
   "outputs": [
    {
     "name": "stdout",
     "output_type": "stream",
     "text": [
      "There are 3747 imported MIX features from internal platform.\n"
     ]
    },
    {
     "data": {
      "text/html": [
       "<div>\n",
       "<style scoped>\n",
       "    .dataframe tbody tr th:only-of-type {\n",
       "        vertical-align: middle;\n",
       "    }\n",
       "\n",
       "    .dataframe tbody tr th {\n",
       "        vertical-align: top;\n",
       "    }\n",
       "\n",
       "    .dataframe thead th {\n",
       "        text-align: right;\n",
       "    }\n",
       "</style>\n",
       "<table border=\"1\" class=\"dataframe\">\n",
       "  <thead>\n",
       "    <tr style=\"text-align: right;\">\n",
       "      <th></th>\n",
       "      <th>ID_Number</th>\n",
       "      <th>Canonical_Smiles</th>\n",
       "      <th>Round_Number</th>\n",
       "      <th>Max_LCAP</th>\n",
       "      <th>BrX1sp3BrX1sp305</th>\n",
       "      <th>CX1sp3BrX1sp303</th>\n",
       "      <th>CX1sp3BrX1sp304</th>\n",
       "      <th>CX1sp3BrX1sp305</th>\n",
       "      <th>CX1sp3BrX1sp306</th>\n",
       "      <th>CX1sp3BrX1sp307</th>\n",
       "      <th>...</th>\n",
       "      <th>X4sp3ClX1sp311</th>\n",
       "      <th>X4sp3NX2sp205</th>\n",
       "      <th>X4sp3NX2sp206</th>\n",
       "      <th>X4sp3NX2sp207</th>\n",
       "      <th>X4sp3NX2sp209</th>\n",
       "      <th>X4sp3NX2sp211</th>\n",
       "      <th>X4sp3NX3sp305</th>\n",
       "      <th>X4sp3OX1sp211</th>\n",
       "      <th>X4sp3OX2sp303</th>\n",
       "      <th>X4sp3SX2sp304</th>\n",
       "    </tr>\n",
       "  </thead>\n",
       "  <tbody>\n",
       "    <tr>\n",
       "      <th>0</th>\n",
       "      <td>4897720</td>\n",
       "      <td>CCCCn1ccnc1</td>\n",
       "      <td>0</td>\n",
       "      <td>0</td>\n",
       "      <td>0</td>\n",
       "      <td>0</td>\n",
       "      <td>0</td>\n",
       "      <td>0</td>\n",
       "      <td>0</td>\n",
       "      <td>0</td>\n",
       "      <td>...</td>\n",
       "      <td>0</td>\n",
       "      <td>0</td>\n",
       "      <td>0</td>\n",
       "      <td>0</td>\n",
       "      <td>0</td>\n",
       "      <td>0</td>\n",
       "      <td>0</td>\n",
       "      <td>0</td>\n",
       "      <td>0</td>\n",
       "      <td>0</td>\n",
       "    </tr>\n",
       "    <tr>\n",
       "      <th>1</th>\n",
       "      <td>18461035</td>\n",
       "      <td>CC(=O)c1ocnc1</td>\n",
       "      <td>0</td>\n",
       "      <td>72</td>\n",
       "      <td>0</td>\n",
       "      <td>0</td>\n",
       "      <td>0</td>\n",
       "      <td>0</td>\n",
       "      <td>0</td>\n",
       "      <td>0</td>\n",
       "      <td>...</td>\n",
       "      <td>0</td>\n",
       "      <td>0</td>\n",
       "      <td>0</td>\n",
       "      <td>0</td>\n",
       "      <td>0</td>\n",
       "      <td>0</td>\n",
       "      <td>0</td>\n",
       "      <td>0</td>\n",
       "      <td>0</td>\n",
       "      <td>0</td>\n",
       "    </tr>\n",
       "    <tr>\n",
       "      <th>2</th>\n",
       "      <td>1762470</td>\n",
       "      <td>Fc1ccc(cc1)c2ocnc2</td>\n",
       "      <td>0</td>\n",
       "      <td>87</td>\n",
       "      <td>0</td>\n",
       "      <td>0</td>\n",
       "      <td>0</td>\n",
       "      <td>0</td>\n",
       "      <td>0</td>\n",
       "      <td>0</td>\n",
       "      <td>...</td>\n",
       "      <td>0</td>\n",
       "      <td>0</td>\n",
       "      <td>0</td>\n",
       "      <td>0</td>\n",
       "      <td>0</td>\n",
       "      <td>0</td>\n",
       "      <td>0</td>\n",
       "      <td>0</td>\n",
       "      <td>0</td>\n",
       "      <td>0</td>\n",
       "    </tr>\n",
       "    <tr>\n",
       "      <th>3</th>\n",
       "      <td>16916940</td>\n",
       "      <td>Brc1ccc(cc1)c2cncs2</td>\n",
       "      <td>0</td>\n",
       "      <td>78</td>\n",
       "      <td>0</td>\n",
       "      <td>0</td>\n",
       "      <td>0</td>\n",
       "      <td>0</td>\n",
       "      <td>0</td>\n",
       "      <td>0</td>\n",
       "      <td>...</td>\n",
       "      <td>0</td>\n",
       "      <td>0</td>\n",
       "      <td>0</td>\n",
       "      <td>0</td>\n",
       "      <td>0</td>\n",
       "      <td>0</td>\n",
       "      <td>0</td>\n",
       "      <td>0</td>\n",
       "      <td>0</td>\n",
       "      <td>0</td>\n",
       "    </tr>\n",
       "    <tr>\n",
       "      <th>4</th>\n",
       "      <td>1040111</td>\n",
       "      <td>Fc1cc(ccc1[C@@H]2CCc3cncn23)C#N</td>\n",
       "      <td>0</td>\n",
       "      <td>0</td>\n",
       "      <td>0</td>\n",
       "      <td>0</td>\n",
       "      <td>0</td>\n",
       "      <td>0</td>\n",
       "      <td>0</td>\n",
       "      <td>0</td>\n",
       "      <td>...</td>\n",
       "      <td>0</td>\n",
       "      <td>0</td>\n",
       "      <td>0</td>\n",
       "      <td>0</td>\n",
       "      <td>0</td>\n",
       "      <td>0</td>\n",
       "      <td>0</td>\n",
       "      <td>0</td>\n",
       "      <td>0</td>\n",
       "      <td>0</td>\n",
       "    </tr>\n",
       "  </tbody>\n",
       "</table>\n",
       "<p>5 rows × 3751 columns</p>\n",
       "</div>"
      ],
      "text/plain": [
       "   ID_Number                 Canonical_Smiles  Round_Number  Max_LCAP  \\\n",
       "0    4897720                      CCCCn1ccnc1             0         0   \n",
       "1   18461035                    CC(=O)c1ocnc1             0        72   \n",
       "2    1762470               Fc1ccc(cc1)c2ocnc2             0        87   \n",
       "3   16916940              Brc1ccc(cc1)c2cncs2             0        78   \n",
       "4    1040111  Fc1cc(ccc1[C@@H]2CCc3cncn23)C#N             0         0   \n",
       "\n",
       "   BrX1sp3BrX1sp305  CX1sp3BrX1sp303  CX1sp3BrX1sp304  CX1sp3BrX1sp305  \\\n",
       "0                 0                0                0                0   \n",
       "1                 0                0                0                0   \n",
       "2                 0                0                0                0   \n",
       "3                 0                0                0                0   \n",
       "4                 0                0                0                0   \n",
       "\n",
       "   CX1sp3BrX1sp306  CX1sp3BrX1sp307  ...  X4sp3ClX1sp311  X4sp3NX2sp205  \\\n",
       "0                0                0  ...               0              0   \n",
       "1                0                0  ...               0              0   \n",
       "2                0                0  ...               0              0   \n",
       "3                0                0  ...               0              0   \n",
       "4                0                0  ...               0              0   \n",
       "\n",
       "   X4sp3NX2sp206  X4sp3NX2sp207  X4sp3NX2sp209  X4sp3NX2sp211  X4sp3NX3sp305  \\\n",
       "0              0              0              0              0              0   \n",
       "1              0              0              0              0              0   \n",
       "2              0              0              0              0              0   \n",
       "3              0              0              0              0              0   \n",
       "4              0              0              0              0              0   \n",
       "\n",
       "   X4sp3OX1sp211  X4sp3OX2sp303  X4sp3SX2sp304  \n",
       "0              0              0              0  \n",
       "1              0              0              0  \n",
       "2              0              0              0  \n",
       "3              0              0              0  \n",
       "4              0              0              0  \n",
       "\n",
       "[5 rows x 3751 columns]"
      ]
     },
     "execution_count": 4,
     "metadata": {},
     "output_type": "execute_result"
    }
   ],
   "source": [
    "# Load descriptors calculated using internal platform\n",
    "mix_desc_df = pd.read_csv('./data/mix_des.csv')\n",
    "mix_desc_df = mix_desc_df.dropna(axis=1)\n",
    "\n",
    "# Extract feature names, excluding the first column (presumably an identifier)\n",
    "mix_features = mix_desc_df.columns.tolist()[1:]\n",
    "print(f'There are {len(mix_features)} imported MIX features from internal platform.')\n",
    "\n",
    "# Merge the mix descriptors with the main DataFrame on 'ID_Number'\n",
    "df = df.merge(mix_desc_df, on='ID_Number')\n",
    "df.head()"
   ]
  },
  {
   "cell_type": "code",
   "execution_count": 5,
   "metadata": {},
   "outputs": [
    {
     "name": "stdout",
     "output_type": "stream",
     "text": [
      "There are 12 imported DFT features.\n"
     ]
    }
   ],
   "source": [
    "# Load descriptors calculated from DFT-optimized geometries\n",
    "df_dft = pd.read_csv('./data/data_dft.csv')\n",
    "\n",
    "# Define DFT features\n",
    "dft_features = [\n",
    "    'N (eV)', 'HOMO (eV)', 'LUMO (eV)', 'Gap (eV)', \n",
    "    'Omega', 'dqG', 'Bmin', 'Bmax', \n",
    "    'L', 'PMI_X', 'PMI_Y', 'PMI_Z'\n",
    "]\n",
    "\n",
    "print(f'There are {len(dft_features)} imported DFT features.')"
   ]
  },
  {
   "cell_type": "code",
   "execution_count": 6,
   "metadata": {},
   "outputs": [],
   "source": [
    "# Calculate molecular fingerprints and descriptors\n",
    "rdkit_desc = calc_rdkit_desc(df)  # Compute RDKit descriptors\n",
    "rdkit_fp = calc_rdkit_fp(df, radius=2, nBits=2048)  # Compute molecular fingerprints\n",
    "\n",
    "# Combine descriptors and fingerprints into a single DataFrame\n",
    "desc_fp = rdkit_desc.join(rdkit_fp)\n",
    "\n",
    "# Optionally save combined dataframe of descriptors and fingerprints to a CSV file\n",
    "#desc_fp.to_csv('./data/rdkit_desc_fp.csv', index=False)\n",
    "\n",
    "rdkit_features = desc_fp.columns.tolist()"
   ]
  },
  {
   "cell_type": "code",
   "execution_count": 7,
   "metadata": {
    "scrolled": false
   },
   "outputs": [
    {
     "data": {
      "text/html": [
       "<div>\n",
       "<style scoped>\n",
       "    .dataframe tbody tr th:only-of-type {\n",
       "        vertical-align: middle;\n",
       "    }\n",
       "\n",
       "    .dataframe tbody tr th {\n",
       "        vertical-align: top;\n",
       "    }\n",
       "\n",
       "    .dataframe thead th {\n",
       "        text-align: right;\n",
       "    }\n",
       "</style>\n",
       "<table border=\"1\" class=\"dataframe\">\n",
       "  <thead>\n",
       "    <tr style=\"text-align: right;\">\n",
       "      <th></th>\n",
       "      <th>Canonical_Smiles</th>\n",
       "      <th>Round_Number</th>\n",
       "      <th>Max_LCAP</th>\n",
       "      <th>ID_Number</th>\n",
       "      <th>BrX1sp3BrX1sp305</th>\n",
       "      <th>CX1sp3BrX1sp303</th>\n",
       "      <th>CX1sp3BrX1sp304</th>\n",
       "      <th>CX1sp3BrX1sp305</th>\n",
       "      <th>CX1sp3BrX1sp306</th>\n",
       "      <th>CX1sp3BrX1sp307</th>\n",
       "      <th>...</th>\n",
       "      <th>LUMO (eV)</th>\n",
       "      <th>Gap (eV)</th>\n",
       "      <th>Omega</th>\n",
       "      <th>dqG</th>\n",
       "      <th>Bmin</th>\n",
       "      <th>Bmax</th>\n",
       "      <th>L</th>\n",
       "      <th>PMI_X</th>\n",
       "      <th>PMI_Y</th>\n",
       "      <th>PMI_Z</th>\n",
       "    </tr>\n",
       "  </thead>\n",
       "  <tbody>\n",
       "    <tr>\n",
       "      <th>0</th>\n",
       "      <td>CCCCn1ccnc1</td>\n",
       "      <td>0</td>\n",
       "      <td>0</td>\n",
       "      <td>4897720</td>\n",
       "      <td>0</td>\n",
       "      <td>0</td>\n",
       "      <td>0</td>\n",
       "      <td>0</td>\n",
       "      <td>0</td>\n",
       "      <td>0</td>\n",
       "      <td>...</td>\n",
       "      <td>1.55</td>\n",
       "      <td>9.23</td>\n",
       "      <td>0.018667</td>\n",
       "      <td>66.200171</td>\n",
       "      <td>1.71</td>\n",
       "      <td>7.91</td>\n",
       "      <td>5.10</td>\n",
       "      <td>15.11284</td>\n",
       "      <td>119.05900</td>\n",
       "      <td>132.05374</td>\n",
       "    </tr>\n",
       "    <tr>\n",
       "      <th>1</th>\n",
       "      <td>CC(=O)c1ocnc1</td>\n",
       "      <td>0</td>\n",
       "      <td>72</td>\n",
       "      <td>18461035</td>\n",
       "      <td>0</td>\n",
       "      <td>0</td>\n",
       "      <td>0</td>\n",
       "      <td>0</td>\n",
       "      <td>0</td>\n",
       "      <td>0</td>\n",
       "      <td>...</td>\n",
       "      <td>-0.79</td>\n",
       "      <td>7.93</td>\n",
       "      <td>0.052357</td>\n",
       "      <td>52.809485</td>\n",
       "      <td>1.74</td>\n",
       "      <td>4.66</td>\n",
       "      <td>7.15</td>\n",
       "      <td>17.18341</td>\n",
       "      <td>52.33765</td>\n",
       "      <td>69.00428</td>\n",
       "    </tr>\n",
       "    <tr>\n",
       "      <th>2</th>\n",
       "      <td>Fc1ccc(cc1)c2ocnc2</td>\n",
       "      <td>0</td>\n",
       "      <td>87</td>\n",
       "      <td>1762470</td>\n",
       "      <td>0</td>\n",
       "      <td>0</td>\n",
       "      <td>0</td>\n",
       "      <td>0</td>\n",
       "      <td>0</td>\n",
       "      <td>0</td>\n",
       "      <td>...</td>\n",
       "      <td>-0.34</td>\n",
       "      <td>7.07</td>\n",
       "      <td>0.039040</td>\n",
       "      <td>56.561304</td>\n",
       "      <td>1.65</td>\n",
       "      <td>6.65</td>\n",
       "      <td>8.40</td>\n",
       "      <td>23.60169</td>\n",
       "      <td>178.26557</td>\n",
       "      <td>201.86727</td>\n",
       "    </tr>\n",
       "    <tr>\n",
       "      <th>3</th>\n",
       "      <td>Brc1ccc(cc1)c2cncs2</td>\n",
       "      <td>0</td>\n",
       "      <td>78</td>\n",
       "      <td>16916940</td>\n",
       "      <td>0</td>\n",
       "      <td>0</td>\n",
       "      <td>0</td>\n",
       "      <td>0</td>\n",
       "      <td>0</td>\n",
       "      <td>0</td>\n",
       "      <td>...</td>\n",
       "      <td>-0.88</td>\n",
       "      <td>6.60</td>\n",
       "      <td>0.048713</td>\n",
       "      <td>55.462471</td>\n",
       "      <td>1.71</td>\n",
       "      <td>5.40</td>\n",
       "      <td>10.80</td>\n",
       "      <td>29.47762</td>\n",
       "      <td>386.11696</td>\n",
       "      <td>415.59459</td>\n",
       "    </tr>\n",
       "    <tr>\n",
       "      <th>4</th>\n",
       "      <td>Fc1cc(ccc1[C@@H]2CCc3cncn23)C#N</td>\n",
       "      <td>0</td>\n",
       "      <td>0</td>\n",
       "      <td>1040111</td>\n",
       "      <td>0</td>\n",
       "      <td>0</td>\n",
       "      <td>0</td>\n",
       "      <td>0</td>\n",
       "      <td>0</td>\n",
       "      <td>0</td>\n",
       "      <td>...</td>\n",
       "      <td>-0.95</td>\n",
       "      <td>6.63</td>\n",
       "      <td>0.050420</td>\n",
       "      <td>63.966738</td>\n",
       "      <td>1.78</td>\n",
       "      <td>7.98</td>\n",
       "      <td>5.95</td>\n",
       "      <td>87.74469</td>\n",
       "      <td>306.39359</td>\n",
       "      <td>323.60486</td>\n",
       "    </tr>\n",
       "  </tbody>\n",
       "</table>\n",
       "<p>5 rows × 6019 columns</p>\n",
       "</div>"
      ],
      "text/plain": [
       "                  Canonical_Smiles  Round_Number  Max_LCAP  ID_Number  \\\n",
       "0                      CCCCn1ccnc1             0         0    4897720   \n",
       "1                    CC(=O)c1ocnc1             0        72   18461035   \n",
       "2               Fc1ccc(cc1)c2ocnc2             0        87    1762470   \n",
       "3              Brc1ccc(cc1)c2cncs2             0        78   16916940   \n",
       "4  Fc1cc(ccc1[C@@H]2CCc3cncn23)C#N             0         0    1040111   \n",
       "\n",
       "   BrX1sp3BrX1sp305  CX1sp3BrX1sp303  CX1sp3BrX1sp304  CX1sp3BrX1sp305  \\\n",
       "0                 0                0                0                0   \n",
       "1                 0                0                0                0   \n",
       "2                 0                0                0                0   \n",
       "3                 0                0                0                0   \n",
       "4                 0                0                0                0   \n",
       "\n",
       "   CX1sp3BrX1sp306  CX1sp3BrX1sp307  ...  LUMO (eV)  Gap (eV)     Omega  \\\n",
       "0                0                0  ...       1.55      9.23  0.018667   \n",
       "1                0                0  ...      -0.79      7.93  0.052357   \n",
       "2                0                0  ...      -0.34      7.07  0.039040   \n",
       "3                0                0  ...      -0.88      6.60  0.048713   \n",
       "4                0                0  ...      -0.95      6.63  0.050420   \n",
       "\n",
       "         dqG  Bmin  Bmax      L     PMI_X      PMI_Y      PMI_Z  \n",
       "0  66.200171  1.71  7.91   5.10  15.11284  119.05900  132.05374  \n",
       "1  52.809485  1.74  4.66   7.15  17.18341   52.33765   69.00428  \n",
       "2  56.561304  1.65  6.65   8.40  23.60169  178.26557  201.86727  \n",
       "3  55.462471  1.71  5.40  10.80  29.47762  386.11696  415.59459  \n",
       "4  63.966738  1.78  7.98   5.95  87.74469  306.39359  323.60486  \n",
       "\n",
       "[5 rows x 6019 columns]"
      ]
     },
     "execution_count": 7,
     "metadata": {},
     "output_type": "execute_result"
    }
   ],
   "source": [
    "# Combine all features into a single dataframe\n",
    "df_clean = pd.concat(\n",
    "    [\n",
    "        df[['Canonical_Smiles', 'Round_Number', 'Max_LCAP', 'ID_Number'] + mix_features], \n",
    "        desc_fp\n",
    "    ], \n",
    "    axis=1\n",
    ")\n",
    "\n",
    "# Merge on 'SMILES' to include DFT features\n",
    "df_clean = df_clean.merge(df_dft[dft_features + ['Canonical_Smiles']], on='Canonical_Smiles')\n",
    "\n",
    "# Optionally save all features to a CSV file\n",
    "#df_clean.to_csv('all_features.csv', index=False)\n",
    "\n",
    "df_clean.head()"
   ]
  },
  {
   "cell_type": "markdown",
   "metadata": {},
   "source": [
    "## Data validation "
   ]
  },
  {
   "cell_type": "code",
   "execution_count": 8,
   "metadata": {},
   "outputs": [
    {
     "name": "stdout",
     "output_type": "stream",
     "text": [
      "Total run time is 315.55 seconds\n",
      "Total run time is 503.22 seconds\n"
     ]
    },
    {
     "data": {
      "text/html": [
       "<div>\n",
       "<style scoped>\n",
       "    .dataframe tbody tr th:only-of-type {\n",
       "        vertical-align: middle;\n",
       "    }\n",
       "\n",
       "    .dataframe tbody tr th {\n",
       "        vertical-align: top;\n",
       "    }\n",
       "\n",
       "    .dataframe thead th {\n",
       "        text-align: right;\n",
       "    }\n",
       "</style>\n",
       "<table border=\"1\" class=\"dataframe\">\n",
       "  <thead>\n",
       "    <tr style=\"text-align: right;\">\n",
       "      <th></th>\n",
       "      <th>y-scramble</th>\n",
       "      <th>no y-scramble</th>\n",
       "    </tr>\n",
       "  </thead>\n",
       "  <tbody>\n",
       "    <tr>\n",
       "      <th>pearson r2</th>\n",
       "      <td>0.019303</td>\n",
       "      <td>0.764595</td>\n",
       "    </tr>\n",
       "    <tr>\n",
       "      <th>mae</th>\n",
       "      <td>25.944050</td>\n",
       "      <td>8.309387</td>\n",
       "    </tr>\n",
       "    <tr>\n",
       "      <th>r2 score</th>\n",
       "      <td>-0.140989</td>\n",
       "      <td>0.753696</td>\n",
       "    </tr>\n",
       "    <tr>\n",
       "      <th>rmse</th>\n",
       "      <td>33.347540</td>\n",
       "      <td>15.637325</td>\n",
       "    </tr>\n",
       "  </tbody>\n",
       "</table>\n",
       "</div>"
      ],
      "text/plain": [
       "            y-scramble  no y-scramble\n",
       "pearson r2    0.019303       0.764595\n",
       "mae          25.944050       8.309387\n",
       "r2 score     -0.140989       0.753696\n",
       "rmse         33.347540      15.637325"
      ]
     },
     "execution_count": 8,
     "metadata": {},
     "output_type": "execute_result"
    }
   ],
   "source": [
    "# y-scramble/y-randomization validation\n",
    "\n",
    "# Calculate performance for Round 7 model\n",
    "performance = cv_random_split_metrics(\n",
    "    model='random forest', \n",
    "    data=df_clean[df_clean.Round_Number <= 7], \n",
    "    descriptors=mix_features, \n",
    "    nsplits=20, \n",
    "    metric_method='average performance'\n",
    ")\n",
    "\n",
    "# Create a scrambled version of the DataFrame\n",
    "df_scramble = df_clean.copy()\n",
    "df_scramble['Max_LCAP'] = df_scramble['Max_LCAP'].sample(frac=1).reset_index(drop=True)\n",
    "\n",
    "# Calculate performance with y-scramble\n",
    "performance_scrambled = cv_random_split_metrics(\n",
    "    model='random forest', \n",
    "    data=df_scramble, \n",
    "    descriptors=mix_features, \n",
    "    nsplits=20, \n",
    "    metric_method='average performance'\n",
    ")\n",
    "\n",
    "df = pd.DataFrame.from_dict(performance_scrambled, orient='index', columns=['y-scramble'])\n",
    "df_2 = pd.DataFrame.from_dict(performance, orient='index', columns=['no y-scramble'])\n",
    "df = pd.concat([df, df_2], axis=1)\n",
    "#df.to_csv('./data/y_scramble_results.csv')\n",
    "df.head()"
   ]
  },
  {
   "cell_type": "markdown",
   "metadata": {},
   "source": [
    "## Tune hyperparameters "
   ]
  },
  {
   "cell_type": "markdown",
   "metadata": {},
   "source": [
    "### Split method: 80:20 train:test random split"
   ]
  },
  {
   "cell_type": "markdown",
   "metadata": {},
   "source": [
    "#### Train a RF model using 80% of randomly split data with default hyperparameters and predict on remaining 20% test set."
   ]
  },
  {
   "cell_type": "code",
   "execution_count": 9,
   "metadata": {
    "scrolled": false
   },
   "outputs": [
    {
     "name": "stdout",
     "output_type": "stream",
     "text": [
      "Total run time is 15.31 seconds\n",
      "       Metric      Value\n",
      "0  pearson r2   0.864244\n",
      "1         mae   7.442821\n",
      "2    r2 score   0.862328\n",
      "3        rmse  12.015783\n"
     ]
    },
    {
     "data": {
      "image/png": "[encoded data removed]",
      "text/plain": [
       "<Figure size 432x288 with 1 Axes>"
      ]
     },
     "metadata": {
      "needs_background": "light"
     },
     "output_type": "display_data"
    }
   ],
   "source": [
    "# Train RF model with default hyperparameters using randomly split 80% of data \n",
    "rf = RandomForestRegressor()\n",
    "trained_rf, performance, preds = model_training(\n",
    "    data=df_clean, \n",
    "    descriptors=mix_features, \n",
    "    model=rf, \n",
    "    split_method='random'\n",
    ")\n",
    "\n",
    "# View performance of model on randomly split 20% test set\n",
    "performance_df = pd.DataFrame(performance.items(), columns=['Metric', 'Value'])\n",
    "print(performance_df)\n",
    "\n",
    "# Plot predicted vs observed\n",
    "pred_df = pd.DataFrame(preds)\n",
    "sns.regplot(data=pred_df, x='test', y='pred')\n",
    "plt.title('predicted vs observed')\n",
    "plt.show()"
   ]
  },
  {
   "cell_type": "markdown",
   "metadata": {},
   "source": [
    "#### Compare with RF model with tuned hyperparameters using 80% randomly split data and predict on remaining 20% test set."
   ]
  },
  {
   "cell_type": "code",
   "execution_count": 10,
   "metadata": {},
   "outputs": [
    {
     "name": "stdout",
     "output_type": "stream",
     "text": [
      "Total run time is 16.05 seconds\n",
      "       Metric      Value\n",
      "0  pearson r2   0.621337\n",
      "1         mae  11.423511\n",
      "2    r2 score   0.602918\n",
      "3        rmse  20.724065\n"
     ]
    },
    {
     "data": {
      "image/png": "[encoded data removed]",
      "text/plain": [
       "<Figure size 432x288 with 1 Axes>"
      ]
     },
     "metadata": {
      "needs_background": "light"
     },
     "output_type": "display_data"
    }
   ],
   "source": [
    "# Tune hyperparameters using randomly split 80% of data\n",
    "descs = mix_features\n",
    "best_rf, df_train, df_test = opt_hyper_param(data=df_clean, descriptors=descs)\n",
    "\n",
    "# Make predictions on reserved randomly split 20% of data using model trained with tuned hyperparameters\n",
    "trained_rf, performance, preds = model_training(\n",
    "    data=df_train, \n",
    "    model=best_rf, \n",
    "    descriptors=descs, \n",
    "    test_df=df_test\n",
    ")\n",
    "\n",
    "# View performance of model on randomly split test set\n",
    "performance_df = pd.DataFrame(performance.items(), columns=['Metric', 'Value'])\n",
    "print(performance_df)\n",
    "\n",
    "# Plot predicted vs. observed\n",
    "pred_df = pd.DataFrame(preds)\n",
    "sns.regplot(data=pred_df, x='test', y='pred')\n",
    "plt.title('predicted vs observed')\n",
    "plt.show()  # Include this line to display the plot"
   ]
  },
  {
   "cell_type": "markdown",
   "metadata": {},
   "source": [
    "### Split method: rounds 0-6:round7 train:test split"
   ]
  },
  {
   "cell_type": "markdown",
   "metadata": {},
   "source": [
    "#### #### Train a RF model using rounds 0-6 data with default hyperparameters and predict on round 7."
   ]
  },
  {
   "cell_type": "code",
   "execution_count": 11,
   "metadata": {},
   "outputs": [
    {
     "name": "stdout",
     "output_type": "stream",
     "text": [
      "Total run time is 4.23 seconds\n",
      "       Metric      Value\n",
      "0  pearson r2   0.899271\n",
      "1         mae  10.983636\n",
      "2    r2 score   0.846274\n",
      "3        rmse  13.218156\n"
     ]
    },
    {
     "data": {
      "image/png": "[encoded data removed]",
      "text/plain": [
       "<Figure size 432x288 with 1 Axes>"
      ]
     },
     "metadata": {
      "needs_background": "light"
     },
     "output_type": "display_data"
    }
   ],
   "source": [
    "# Train RF model with default hyperparameters using rounds 0-6 data\n",
    "rf = RandomForestRegressor()\n",
    "trained_rf, performance, preds = model_training(\n",
    "    data=df_clean, \n",
    "    descriptors=mix_features, \n",
    "    model=rf, \n",
    "    split_method='round'\n",
    ")\n",
    "\n",
    "# View performance of model on round 7\n",
    "performance_df = pd.DataFrame(performance.items(), columns=['Metric', 'Value'])\n",
    "print(performance_df)\n",
    "\n",
    "# Plot predicted vs observed\n",
    "pred_df = pd.DataFrame(preds)\n",
    "sns.regplot(data=pred_df, x='test', y='pred')\n",
    "plt.title('prediction vs test')\n",
    "plt.show() "
   ]
  },
  {
   "cell_type": "markdown",
   "metadata": {},
   "source": [
    "#### Compare with RF model with tuned hyperparameters using rounds 0-6 data and predict on round 7."
   ]
  },
  {
   "cell_type": "code",
   "execution_count": 12,
   "metadata": {
    "scrolled": false
   },
   "outputs": [
    {
     "name": "stdout",
     "output_type": "stream",
     "text": [
      "Total run time is 56.48 seconds\n",
      "       Metric      Value\n",
      "0  pearson r2   0.920040\n",
      "1         mae  15.031719\n",
      "2    r2 score   0.772039\n",
      "3        rmse  16.096333\n"
     ]
    },
    {
     "data": {
      "image/png": "[encoded data removed]",
      "text/plain": [
       "<Figure size 432x288 with 1 Axes>"
      ]
     },
     "metadata": {
      "needs_background": "light"
     },
     "output_type": "display_data"
    }
   ],
   "source": [
    "# Tune hyperparameters using Round 6 model\n",
    "descs = df_clean.columns.tolist()[4:]  # Extract descriptors starting from the 5th column\n",
    "best_rf, df_train, df_test = opt_hyper_param(\n",
    "    data=df_clean, \n",
    "    descriptors=descs, \n",
    "    split_method='round'\n",
    ")\n",
    "\n",
    "# Make predictions on reserved Round 7 compounds using model trained with tuned parameters\n",
    "trained_rf, performance, preds = model_training(\n",
    "    data=df_train, \n",
    "    descriptors=descs, \n",
    "    model=best_rf, \n",
    "    test_df=df_test\n",
    ")\n",
    "\n",
    "# View performance of model on Round 7 compounds\n",
    "performance_df = pd.DataFrame(performance.items(), columns=['Metric', 'Value'])\n",
    "print(performance_df)\n",
    "\n",
    "# Plot prediction vs experimental results\n",
    "pred_df = pd.DataFrame(preds)\n",
    "sns.regplot(data=pred_df, x='test', y='pred')\n",
    "plt.title('Predicted vs Observed')\n",
    "plt.show() "
   ]
  },
  {
   "cell_type": "markdown",
   "metadata": {},
   "source": [
    "## DFT feature performance for predicting Round 6 compounds from Round 5 model"
   ]
  },
  {
   "cell_type": "code",
   "execution_count": 13,
   "metadata": {},
   "outputs": [
    {
     "name": "stdout",
     "output_type": "stream",
     "text": [
      "Total run time is 0.89 seconds\n"
     ]
    },
    {
     "data": {
      "image/png": "[encoded data removed]",
      "text/plain": [
       "<Figure size 432x288 with 1 Axes>"
      ]
     },
     "metadata": {
      "needs_background": "light"
     },
     "output_type": "display_data"
    },
    {
     "name": "stdout",
     "output_type": "stream",
     "text": [
      "Total run time is 0.15 seconds\n"
     ]
    },
    {
     "data": {
      "image/png": "[encoded data removed]",
      "text/plain": [
       "<Figure size 432x288 with 1 Axes>"
      ]
     },
     "metadata": {
      "needs_background": "light"
     },
     "output_type": "display_data"
    },
    {
     "name": "stdout",
     "output_type": "stream",
     "text": [
      "Total run time is 1.13 seconds\n"
     ]
    },
    {
     "data": {
      "image/png": "[encoded data removed]",
      "text/plain": [
       "<Figure size 432x288 with 1 Axes>"
      ]
     },
     "metadata": {
      "needs_background": "light"
     },
     "output_type": "display_data"
    },
    {
     "name": "stdout",
     "output_type": "stream",
     "text": [
      "Total run time is 0.90 seconds\n"
     ]
    },
    {
     "data": {
      "image/png": "[encoded data removed]",
      "text/plain": [
       "<Figure size 432x288 with 1 Axes>"
      ]
     },
     "metadata": {
      "needs_background": "light"
     },
     "output_type": "display_data"
    },
    {
     "name": "stdout",
     "output_type": "stream",
     "text": [
      "           pearson r2        mae  r2 score       rmse\n",
      "rdkit        0.009502  56.443981 -7.496652  58.905959\n",
      "dft          0.181466  20.671991 -0.824975  27.300071\n",
      "mix          0.035122  38.395741 -3.296983  41.890653\n",
      "rdkit_dft    0.007200  56.466944 -7.479006  58.844756\n"
     ]
    }
   ],
   "source": [
    "# Train Round 5 model, predict on Round 6 compounds using different features\n",
    "# Split by round\n",
    "round6_performance = {}\n",
    "\n",
    "# Define features for different models\n",
    "feature_dict = {\n",
    "    'rdkit': rdkit_features,\n",
    "    'dft': dft_features,\n",
    "    'mix': mix_features,\n",
    "    'rdkit_dft': dft_features + rdkit_features\n",
    "}\n",
    "\n",
    "# Loop through different feature sets\n",
    "for feature_set_name, features in feature_dict.items():\n",
    "    # Initialize Random Forest Regressor\n",
    "    rf = RandomForestRegressor(random_state=0)\n",
    "    \n",
    "    # Prepare data for training\n",
    "    data_for_training = df_clean[df_clean.Round_Number <= 6]\n",
    "    \n",
    "    # Train the model and get performance metrics\n",
    "    _, performance, preds = model_training(\n",
    "        data=data_for_training,\n",
    "        model=rf,\n",
    "        split_method='round',\n",
    "        descriptors=features\n",
    "    )\n",
    "    \n",
    "    # Store performance metrics in a dictionary\n",
    "    round6_performance[feature_set_name] = performance\n",
    "    \n",
    "    # Prepare predictions for visualization\n",
    "    pred_df = pd.DataFrame(preds)\n",
    "    \n",
    "    # Optionally save predictions for DFT features to CSV\n",
    "    #if feature_set_name == 'dft':\n",
    "    #    pred_df.to_csv('./data/dft_preds_round5_on_round6.csv', index=False)\n",
    "    \n",
    "    # Create a scatter plot to visualize predictions vs experimental results\n",
    "    plt.figure()\n",
    "    sns.regplot(data=pred_df, x='test', y='pred')\n",
    "    plt.title(f'Prediction vs Test with {feature_set_name} Features')\n",
    "    plt.xlabel('Experimental Values')\n",
    "    plt.ylabel('Predicted Values')\n",
    "    plt.show()  # Show the plot\n",
    "\n",
    "# Create a DataFrame to display performance metrics\n",
    "performance_df = pd.DataFrame.from_dict(round6_performance, orient='index')  # Create DataFrame from dict\n",
    "\n",
    "# Display performance metrics\n",
    "print(performance_df)"
   ]
  },
  {
   "cell_type": "code",
   "execution_count": 14,
   "metadata": {},
   "outputs": [
    {
     "name": "stdout",
     "output_type": "stream",
     "text": [
      "Total run time is 0.15 seconds\n",
      "      Feature       PFI\n",
      "0       PMI_X  0.180250\n",
      "1        Bmax  0.170323\n",
      "2         dqG  0.151675\n",
      "3           L  0.128990\n",
      "4       PMI_Z  0.093402\n",
      "5        Bmin  0.079007\n",
      "6       PMI_Y  0.051001\n",
      "7    Gap (eV)  0.050269\n",
      "8   HOMO (eV)  0.026333\n",
      "9       Omega  0.026071\n",
      "10  LUMO (eV)  0.021797\n",
      "11     N (eV)  0.020880\n"
     ]
    }
   ],
   "source": [
    "# Calculate permutation feature importance for RF DFT model\n",
    "rf = RandomForestRegressor(random_state=0)\n",
    "\n",
    "# Train Round 5 model using DFT features and predict on Round 6 compounds\n",
    "trained_rf, performance, preds = model_training(\n",
    "    data=df_clean[df_clean.Round_Number <= 6],\n",
    "    model=rf,\n",
    "    split_method='round',\n",
    "    descriptors=feature_dict['dft']\n",
    ")\n",
    "\n",
    "# Extract feature importances\n",
    "importances = trained_rf.feature_importances_\n",
    "std_dev = np.std([tree.feature_importances_ for tree in trained_rf.estimators_], axis=0)\n",
    "\n",
    "# Prepare feature names and calculate PFI\n",
    "feature_names = dft_features\n",
    "forest_importances = pd.Series(importances, index=feature_names)\n",
    "\n",
    "# Sort features by importance\n",
    "feature_list_ordered = forest_importances.sort_values(ascending=False)\n",
    "feature_importance_df = pd.DataFrame({\n",
    "    'Feature': feature_list_ordered.index,\n",
    "    'PFI': feature_list_ordered.values\n",
    "})\n",
    "\n",
    "print(feature_importance_df)"
   ]
  },
  {
   "cell_type": "markdown",
   "metadata": {},
   "source": [
    "## Model evolution: train Round 0 to 7 models and plot performances "
   ]
  },
  {
   "cell_type": "code",
   "execution_count": 15,
   "metadata": {},
   "outputs": [
    {
     "name": "stderr",
     "output_type": "stream",
     "text": [
      " 12%|█▎        | 1/8 [00:04<00:30,  4.29s/it]"
     ]
    },
    {
     "name": "stdout",
     "output_type": "stream",
     "text": [
      "Total run time is 4.29 seconds\n"
     ]
    },
    {
     "name": "stderr",
     "output_type": "stream",
     "text": [
      "\r",
      " 25%|██▌       | 2/8 [00:13<00:42,  7.15s/it]"
     ]
    },
    {
     "name": "stdout",
     "output_type": "stream",
     "text": [
      "Total run time is 9.14 seconds\n"
     ]
    },
    {
     "name": "stderr",
     "output_type": "stream",
     "text": [
      "\r",
      " 38%|███▊      | 3/8 [00:23<00:41,  8.28s/it]"
     ]
    },
    {
     "name": "stdout",
     "output_type": "stream",
     "text": [
      "Total run time is 9.61 seconds\n"
     ]
    },
    {
     "name": "stderr",
     "output_type": "stream",
     "text": [
      "\r",
      " 50%|█████     | 4/8 [00:33<00:36,  9.08s/it]"
     ]
    },
    {
     "name": "stdout",
     "output_type": "stream",
     "text": [
      "Total run time is 10.30 seconds\n"
     ]
    },
    {
     "name": "stderr",
     "output_type": "stream",
     "text": [
      "\r",
      " 62%|██████▎   | 5/8 [00:44<00:29,  9.97s/it]"
     ]
    },
    {
     "name": "stdout",
     "output_type": "stream",
     "text": [
      "Total run time is 11.55 seconds\n"
     ]
    },
    {
     "name": "stderr",
     "output_type": "stream",
     "text": [
      "\r",
      " 75%|███████▌  | 6/8 [01:02<00:25, 12.53s/it]"
     ]
    },
    {
     "name": "stdout",
     "output_type": "stream",
     "text": [
      "Total run time is 17.47 seconds\n"
     ]
    },
    {
     "name": "stderr",
     "output_type": "stream",
     "text": [
      "\r",
      " 88%|████████▊ | 7/8 [02:01<00:27, 27.68s/it]"
     ]
    },
    {
     "name": "stdout",
     "output_type": "stream",
     "text": [
      "Total run time is 58.84 seconds\n"
     ]
    },
    {
     "name": "stderr",
     "output_type": "stream",
     "text": [
      "100%|██████████| 8/8 [03:06<00:00, 23.29s/it]"
     ]
    },
    {
     "name": "stdout",
     "output_type": "stream",
     "text": [
      "Total run time is 65.00 seconds\n"
     ]
    },
    {
     "name": "stderr",
     "output_type": "stream",
     "text": [
      "\n"
     ]
    }
   ],
   "source": [
    "# Train default RF models for Rounds 0 to 7 using MIX descriptors\n",
    "rf = RandomForestRegressor()\n",
    "r2s = []\n",
    "maes = []\n",
    "numbers = []\n",
    "rounds = range(8)  # Using range for cleaner iteration\n",
    "\n",
    "for r in tqdm(rounds):\n",
    "    # Calculate performance metrics with a random split\n",
    "    performance = cv_random_split_metrics(data=df_clean[df_clean.Round_Number <= r], descriptors=mix_features) \n",
    "    \n",
    "    # Append performance metrics and number of samples for current round\n",
    "    r2s.append(performance['pearson r2'])\n",
    "    numbers.append(len(df_clean[df_clean.Round_Number <= r]))\n",
    "    maes.append(performance['mae'])\n",
    "    \n",
    "results = pd.DataFrame({\n",
    "    'Round Number': rounds,\n",
    "    'Number of Compounds': numbers,\n",
    "    'R2': r2s,\n",
    "    'MAE': maes\n",
    "})\n",
    "\n",
    "# Optionally save results to a CSV file\n",
    "#results.to_csv('./data/performance_vs_datasize.csv', index=False)"
   ]
  },
  {
   "cell_type": "code",
   "execution_count": 16,
   "metadata": {},
   "outputs": [
    {
     "data": {
      "image/png": "[encoded data removed]",
      "text/plain": [
       "<Figure size 720x432 with 2 Axes>"
      ]
     },
     "metadata": {
      "needs_background": "light"
     },
     "output_type": "display_data"
    },
    {
     "data": {
      "image/png": "[encoded data removed]",
      "text/plain": [
       "<Figure size 720x432 with 2 Axes>"
      ]
     },
     "metadata": {
      "needs_background": "light"
     },
     "output_type": "display_data"
    }
   ],
   "source": [
    "# Plot to compare predictions versus experimental results\n",
    "fig, ax1 = plt.subplots(figsize=(10, 6))\n",
    "\n",
    "ax1.bar(rounds, numbers, color='b', alpha=0.6, label='Number of Compounds')\n",
    "ax1.set_xlabel('Round Number')\n",
    "ax1.set_ylabel('Number of Compounds', color='b')\n",
    "ax1.tick_params(axis='y', labelcolor='b')\n",
    "ax2 = ax1.twinx()\n",
    "ax2.plot(rounds, maes, color='r', marker='o', label='MAE', linewidth=2)\n",
    "ax2.set_ylabel('Mean Absolute Error (MAE)', color='r')\n",
    "ax2.tick_params(axis='y', labelcolor='r')\n",
    "\n",
    "ax2.axhline(0, color=\"k\", linestyle=\"--\") # Reference line for MAE\n",
    "ax1.legend(loc='upper left')\n",
    "ax2.legend(loc='upper right')\n",
    "plt.title('Number of Compounds and MAE Over Different Rounds')\n",
    "plt.tight_layout()\n",
    "#plt.savefig('./data/number_of_compounds_mae.png', dpi=300)\n",
    "plt.show()\n",
    "\n",
    "\n",
    "fig, ax3 = plt.subplots(figsize=(10, 6))\n",
    "\n",
    "ax3.bar(rounds, numbers, color='b', alpha=0.6, label='Number of Compounds')\n",
    "ax3.set_xlabel('Round Number')\n",
    "ax3.set_ylabel('Number of Compounds', color='b')\n",
    "ax3.tick_params(axis='y', labelcolor='b')\n",
    "ax4 = ax3.twinx()\n",
    "ax4.plot(rounds, r2s, color='g', marker='s', label='R²', linewidth=2)\n",
    "ax4.set_ylabel('R² Value', color='g')\n",
    "ax4.tick_params(axis='y', labelcolor='g')\n",
    "ax4.axhline(0, color=\"k\", linestyle=\"--\") # Reference line for R²\n",
    "\n",
    "ax3.legend(loc='upper left')\n",
    "ax4.legend(loc='upper right')\n",
    "plt.title('Number of Compounds and R² Over Different Rounds')\n",
    "plt.tight_layout()\n",
    "#plt.savefig('./data/number_of_compounds_r2.png', dpi=300)\n",
    "plt.show()"
   ]
  },
  {
   "cell_type": "code",
   "execution_count": null,
   "metadata": {},
   "outputs": [],
   "source": []
  }
 ],
 "metadata": {
  "kernelspec": {
   "display_name": "CHML1",
   "language": "python",
   "name": "chml1"
  },
  "language_info": {
   "codemirror_mode": {
    "name": "ipython",
    "version": 3
   },
   "file_extension": ".py",
   "mimetype": "text/x-python",
   "name": "python",
   "nbconvert_exporter": "python",
   "pygments_lexer": "ipython3",
   "version": "3.6.13"
  }
 },
 "nbformat": 4,
 "nbformat_minor": 5
}
